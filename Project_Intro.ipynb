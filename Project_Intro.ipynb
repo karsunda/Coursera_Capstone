{
    "nbformat_minor": 1, 
    "cells": [
        {
            "source": "# Introduction/Description about the problem", 
            "cell_type": "markdown", 
            "metadata": {
                "collapsed": true
            }
        }, 
        {
            "source": "Audience: Business owners looking to set up a Chinese Restaurant in Washington DC.\n    In Washington DC, if someone is looking to open a Chinese restaurant, where would you recommend that they open it? \nChinese food is loved by alot of neighborhood by Indians and other country peope, sometimes you see several restaurants in a single block. ", 
            "cell_type": "markdown", 
            "metadata": {}
        }, 
        {
            "source": "Why would someone be interested/care?\nAs a new business, one should want to know about the area where they are looking to set up.\n1. Is there too much competition? - for example the south indian resturants in that area have some amazing reviews - \n  which means bringing in new customers might be harder.\n2. how many people frequently going to restaurants? You would want to make sure your area has enough foot traffic\n3. What times of the week are most popular - this could help indicate the hours/days you should be open.\n\nBy looking at the data provided in Foursquare - the buisness owner could get a good idea if it is a good idea to invest\nin a property in DC that sells south indian food to people. ", 
            "cell_type": "markdown", 
            "metadata": {}
        }, 
        {
            "execution_count": null, 
            "cell_type": "code", 
            "metadata": {}, 
            "outputs": [], 
            "source": ""
        }
    ], 
    "metadata": {
        "kernelspec": {
            "display_name": "Python 3.5", 
            "name": "python3", 
            "language": "python"
        }, 
        "language_info": {
            "mimetype": "text/x-python", 
            "nbconvert_exporter": "python", 
            "version": "3.5.5", 
            "name": "python", 
            "file_extension": ".py", 
            "pygments_lexer": "ipython3", 
            "codemirror_mode": {
                "version": 3, 
                "name": "ipython"
            }
        }
    }, 
    "nbformat": 4
}