{
    "nbformat_minor": 1, 
    "cells": [
        {
            "source": "# Da", 
            "cell_type": "markdown", 
            "metadata": {}
        }, 
        {
            "source": "Data:\nFor this project I will be using the FourSquare API to look at the surrounding city for similar venues and foot traffic as well as a JSON \ngeo file of washington DC in order to map out analytics using folium. \n\nWithin the foursquare API i will be using the following endpoints.\n\nSearch: https://developer.foursquare.com/docs/api/venues/search\n  Using the search call I will be seeing what current venues are in the area of Washington DC\n  For example if using the search query you see there are several south indian food establishments in the surrounding area\n  you might want to look somewhere else. \n  \nTrending: GET https://api.foursquare.com/v2/venues/trending\n  To see if there is any trending south indian resturants in the area. If for exmple there are several south indian food places around but none \n  are trending that might indicate the food is not well liked which could be a way in for your new establishment. Or perhaps the trending food \n  in the area is Italian -that might indicate south indian food might not be the best place for the people in that neighborhood.\n  \nLikes: GET https://api.foursquare.com/v2/venues/VENUE_ID/likes\n  See if any south indian food resturants got likes and how many. Going along with the trending. How many south indian places have a lot of likes\n  or which ones dont have any likes. If there is a south indian establishment with no likes then again might be agood place for your to set up \n  shop.\n  \nSimliar:GET https://api.foursquare.com/v2/venues/VENUE_ID/similar\n  See if any resutarnts that are simliar to south indian are around. - ie: A2B , Is there alot of foot traffic for south indian cusine in the\n  neighborhood. \n\n\nI would also mabye like to pull in a Json geo file of Washington DC\n that could be used for mappings later. \n http://opendata.dc.gov/ \n http://data.codefordc.org/dataset/dc-wards-map-overlay ", 
            "cell_type": "markdown", 
            "metadata": {
                "collapsed": true
            }
        }
    ], 
    "metadata": {
        "kernelspec": {
            "display_name": "Python 3.5", 
            "name": "python3", 
            "language": "python"
        }, 
        "language_info": {
            "mimetype": "text/x-python", 
            "nbconvert_exporter": "python", 
            "version": "3.5.5", 
            "name": "python", 
            "file_extension": ".py", 
            "pygments_lexer": "ipython3", 
            "codemirror_mode": {
                "version": 3, 
                "name": "ipython"
            }
        }
    }, 
    "nbformat": 4
}